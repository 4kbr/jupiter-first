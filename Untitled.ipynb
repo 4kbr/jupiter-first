{
 "cells": [
  {
   "cell_type": "code",
   "execution_count": 1,
   "id": "f1500e22-0e67-48b5-9def-0819489835a6",
   "metadata": {},
   "outputs": [
    {
     "data": {
      "text/plain": [
       "2"
      ]
     },
     "execution_count": 1,
     "metadata": {},
     "output_type": "execute_result"
    }
   ],
   "source": [
    "1 + 1 "
   ]
  },
  {
   "cell_type": "code",
   "execution_count": 2,
   "id": "9647d3f1-6ab9-46cd-8cd5-cb997d37dc79",
   "metadata": {},
   "outputs": [
    {
     "name": "stdout",
     "output_type": "stream",
     "text": [
      "hello world\n"
     ]
    }
   ],
   "source": [
    "print(\"hello world\")"
   ]
  },
  {
   "cell_type": "code",
   "execution_count": 3,
   "id": "9a450fbf-81ee-4997-b237-860cd72e9c47",
   "metadata": {},
   "outputs": [],
   "source": [
    "import pandas as pd\n",
    "import numpy as np\n",
    "import matplotlib.pyplot as plt\n",
    "import sklearn"
   ]
  },
  {
   "cell_type": "code",
   "execution_count": 4,
   "id": "b1d08fdc-836b-458a-a576-e0219d90bb04",
   "metadata": {},
   "outputs": [
    {
     "name": "stdout",
     "output_type": "stream",
     "text": [
      "oke\n"
     ]
    }
   ],
   "source": [
    "print(\"oke\")"
   ]
  },
  {
   "cell_type": "code",
   "execution_count": null,
   "id": "6b592ffa-659b-4e1f-a6a5-e14183db61f5",
   "metadata": {},
   "outputs": [],
   "source": [
    "conda create --prefix ./env pandas numpy matplotlib scikit-learn\n",
    "conda install jupyter //ini gagal"
   ]
  }
 ],
 "metadata": {
  "kernelspec": {
   "display_name": "Python 3 (ipykernel)",
   "language": "python",
   "name": "python3"
  },
  "language_info": {
   "codemirror_mode": {
    "name": "ipython",
    "version": 3
   },
   "file_extension": ".py",
   "mimetype": "text/x-python",
   "name": "python",
   "nbconvert_exporter": "python",
   "pygments_lexer": "ipython3",
   "version": "3.12.0"
  }
 },
 "nbformat": 4,
 "nbformat_minor": 5
}
